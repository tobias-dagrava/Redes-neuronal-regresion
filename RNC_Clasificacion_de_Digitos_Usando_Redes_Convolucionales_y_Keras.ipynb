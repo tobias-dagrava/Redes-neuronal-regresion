{
  "cells": [
    {
      "cell_type": "markdown",
      "metadata": {
        "id": "tS3n2VukhVZh"
      },
      "source": [
        "# Clasificación de dígitos usando Redes Convolucionales y Keras\n",
        "\n",
        "## 1 - El set de datos\n",
        "\n",
        "En este tutorial implementaremos una red convolucional capaz de clasificar los dígitos del 0 al 9. Para ello usaremos el set de datos [MNIST](http://yann.lecun.com/exdb/mnist/), que contiene un total de 70.000 imágenes escritas a mano por diferentes personas.\n",
        "\n",
        "![Algunos ejemplos de imágenes provenientes del set MNIST](https://github.com/codificandobits/Clasificacion_MNIST_RedesConvolucionales_Keras/blob/master/MNIST_ejemplo.png?raw=1)\n",
        "\n",
        "Al final de este tutorial tendremos claro:\n",
        "1. Cómo funciona [LeNet-5](http://yann.lecun.com/exdb/lenet/), la red convolucional usada en este tutorial\n",
        "2. Cómo implementar esta red convolucional usando la librería Keras\n",
        "3. Cómo evaluar el desempeño de la red\n",
        "\n",
        "En primer lugar, veamos cómo es LeNet-5."
      ]
    },
    {
      "cell_type": "markdown",
      "metadata": {
        "id": "kuomVlU4hVZm"
      },
      "source": [
        "## 2 - LeNet-5\n",
        "\n",
        "Esta red es la precursora de todas las redes convolucionales usadas en la actualidad. Fue diseñada por [Yann LeCun] a finales de los años 90, con el fin de clasificar dígitos (del 0 al 9) escritos a mano.\n",
        "\n",
        "Esta red tiene como entradas imágenes de 28x28x1: 28 filas, 28 columnas y 1 sólo plano de color, es decir imágenes en escala de gris.\n",
        "\n",
        "![LeNet-5](https://github.com/codificandobits/Clasificacion_MNIST_RedesConvolucionales_Keras/blob/master/LeNet5.png?raw=1)\n",
        "\n",
        "Como se observa en la figura de arriba, la red cuenta con dos bloques de procesamiento:\n",
        "- Las *capas convolucionales* que se encargan de extraer características de las imágenes\n",
        "- La *red neuronal*, que toma dichas características y permite clasificar la imagen en uno de los posibles 10 dígitos (del 0 al 9)\n",
        "\n",
        "Además, podemos observar las siguientes características:\n",
        "- Después de realizar convoluciones se usa siempre la función de activación *ReLU*\n",
        "- El *max-pooling* se realiza después de las convoluciones\n",
        "- Las *dimensiones espaciales* (número de filas y columnas) de las imágenes se reducen entre una capa y otra, mientras que la profundidad (correspondiente a las características extraídas) aumenta entre una capa y otra\n",
        "\n",
        "Las redes convolucionales usadas en la actualidad implementan una lógica similar a la de LeNet-5."
      ]
    },
    {
      "cell_type": "markdown",
      "metadata": {
        "id": "rXi3pLYkhVZo"
      },
      "source": [
        "## 3 - Implementación en Keras\n",
        "\n",
        "### 3.1 - Librerías requeridas\n",
        "\n",
        "En primer lugar se importa la librería Numpy y se ajusta la semilla del generador aleatorio para garantizar la reproducibilidad del entrenamiento. También importaremos la librería Matplotlib, para poder visualizar las imágenes del set de datos :"
      ]
    },
    {
      "cell_type": "code",
      "execution_count": 48,
      "metadata": {
        "collapsed": true,
        "id": "nd-zxE7_hVZp"
      },
      "outputs": [],
      "source": [
        "# https://github.com/codificandobits/Clasificacion_MNIST_RedesConvolucionales_Keras\n",
        "# https://www.codificandobits.com/blog/redes-convolucionales-introduccion/\n",
        "# https://www.codificandobits.com/blog/padding-strides-maxpooling-stacking-redes-convolucionales/\n",
        "# https://www.codificandobits.com/blog/convolucion-redes-convolucionales/\n",
        "\n",
        "\n",
        "import numpy as np\n",
        "np.random.seed(2)\n",
        "\n",
        "import matplotlib.pyplot as plt\n",
        "%matplotlib inline\n",
        "\n",
        "from sklearn.metrics import confusion_matrix\n",
        "from sklearn.metrics import ConfusionMatrixDisplay"
      ]
    },
    {
      "cell_type": "markdown",
      "metadata": {
        "id": "rElMJh82hVZs"
      },
      "source": [
        "A continuación importamos las funciones *Sequential*, *Conv2D*, *MaxPooling2D*, *Flatten*, *Dense* y *SGD* de Keras:"
      ]
    },
    {
      "cell_type": "code",
      "execution_count": 49,
      "metadata": {
        "id": "Ji87CMp0hVZt"
      },
      "outputs": [],
      "source": [
        "from keras.datasets import mnist\n",
        "from keras.utils import to_categorical\n",
        "\n",
        "from keras.models import Sequential\n",
        "from keras.layers import Conv2D, MaxPooling2D\n",
        "from keras.layers import Flatten, Dense\n",
        "from keras.optimizers import SGD\n"
      ]
    },
    {
      "cell_type": "markdown",
      "metadata": {
        "id": "pX3E30UchVZu"
      },
      "source": [
        "### 3.2 - Pre-procesamiento del set de datos\n",
        "\n",
        "La función *mnist* de Keras permite leer el set de datos y crear automáticamente los sets de entrenamiento y validación. El primero de ellos tendrá 60,000 imágenes (cada una de 28x28) con sus correspondientes categorías, mientras que el segundo tendrá 10,000 datos:"
      ]
    },
    {
      "cell_type": "code",
      "execution_count": 50,
      "metadata": {
        "colab": {
          "base_uri": "https://localhost:8080/"
        },
        "id": "C73usaqihVZv",
        "outputId": "99e7cbe9-e1ef-40cc-c143-341ef820afaf"
      },
      "outputs": [
        {
          "name": "stdout",
          "output_type": "stream",
          "text": [
            "(60000, 28, 28)\n",
            "(60000,)\n",
            "(10000, 28, 28)\n",
            "(10000,)\n"
          ]
        }
      ],
      "source": [
        "(x_train, y_train), (x_test,y_test) = mnist.load_data()\n",
        "print(x_train.shape)\n",
        "print(y_train.shape)\n",
        "print(x_test.shape)\n",
        "print(y_test.shape)"
      ]
    },
    {
      "cell_type": "markdown",
      "metadata": {
        "id": "fo5LzKAbhVZw"
      },
      "source": [
        "Los pixeles en las imágenes (tanto de entrenamiento como de validación) tienen valores entre 0 y 255; sin embargo, para garantizar la convergencia del entrenamiento es necesario normalizar estos valores entre 0 y 1:"
      ]
    },
    {
      "cell_type": "code",
      "execution_count": 51,
      "metadata": {
        "collapsed": true,
        "id": "9P4P7ZzIhVZw"
      },
      "outputs": [],
      "source": [
        "x_train = x_train/255.0\n",
        "x_test = x_test/255.0"
      ]
    },
    {
      "cell_type": "code",
      "execution_count": 52,
      "metadata": {
        "colab": {
          "base_uri": "https://localhost:8080/"
        },
        "id": "AKYRViiogQjR",
        "outputId": "185c6298-6772-4b2b-92d0-b59857abda9d"
      },
      "outputs": [
        {
          "data": {
            "text/plain": [
              "array([5, 0, 4, ..., 5, 6, 8], dtype=uint8)"
            ]
          },
          "execution_count": 52,
          "metadata": {},
          "output_type": "execute_result"
        }
      ],
      "source": [
        "y_train"
      ]
    },
    {
      "cell_type": "markdown",
      "metadata": {
        "id": "FjIGoSXIhVZx"
      },
      "source": [
        "También se deben codificar *y_train* y *y_test* en el formato *one-hot*:"
      ]
    },
    {
      "cell_type": "code",
      "execution_count": 53,
      "metadata": {
        "colab": {
          "base_uri": "https://localhost:8080/"
        },
        "collapsed": true,
        "id": "TaFHzSjShVZx",
        "outputId": "9d5ef614-c9fd-4892-f868-1c448f032d65"
      },
      "outputs": [
        {
          "name": "stdout",
          "output_type": "stream",
          "text": [
            "(10000,)\n",
            "(10000, 10)\n"
          ]
        }
      ],
      "source": [
        "nclases = 10\n",
        "y_train_cat = to_categorical(y_train,nclases)\n",
        "y_test_cat = to_categorical(y_test,nclases)\n",
        "print(y_test.shape)\n",
        "print(y_test_cat.shape)"
      ]
    },
    {
      "cell_type": "code",
      "execution_count": 54,
      "metadata": {
        "colab": {
          "base_uri": "https://localhost:8080/"
        },
        "id": "jjd1cJU5ecfW",
        "outputId": "a2099f98-f9b7-4544-a378-2e8fdc5e5e67"
      },
      "outputs": [
        {
          "data": {
            "text/plain": [
              "array([0., 0., 0., 0., 0., 0., 0., 1., 0., 0.])"
            ]
          },
          "execution_count": 54,
          "metadata": {},
          "output_type": "execute_result"
        }
      ],
      "source": [
        "y_test_cat[0]"
      ]
    },
    {
      "cell_type": "code",
      "execution_count": 55,
      "metadata": {
        "colab": {
          "base_uri": "https://localhost:8080/"
        },
        "id": "FbgzhFuvemTn",
        "outputId": "c38852c9-886c-4adf-8d6f-8226c47be1f7"
      },
      "outputs": [
        {
          "data": {
            "text/plain": [
              "7"
            ]
          },
          "execution_count": 55,
          "metadata": {},
          "output_type": "execute_result"
        }
      ],
      "source": [
        "y_test[0]"
      ]
    },
    {
      "cell_type": "code",
      "execution_count": 56,
      "metadata": {
        "colab": {
          "base_uri": "https://localhost:8080/"
        },
        "id": "Lc48I4J2hAOe",
        "outputId": "22d0421a-ccdb-4578-a2a1-960e914dd8cd"
      },
      "outputs": [
        {
          "data": {
            "text/plain": [
              "array([[0., 0., 0., ..., 1., 0., 0.],\n",
              "       [0., 0., 1., ..., 0., 0., 0.],\n",
              "       [0., 1., 0., ..., 0., 0., 0.],\n",
              "       ...,\n",
              "       [0., 0., 0., ..., 0., 0., 0.],\n",
              "       [0., 0., 0., ..., 0., 0., 0.],\n",
              "       [0., 0., 0., ..., 0., 0., 0.]])"
            ]
          },
          "execution_count": 56,
          "metadata": {},
          "output_type": "execute_result"
        }
      ],
      "source": [
        "y_test_cat"
      ]
    },
    {
      "cell_type": "code",
      "execution_count": 57,
      "metadata": {
        "colab": {
          "base_uri": "https://localhost:8080/"
        },
        "id": "2GUFG6MThoL4",
        "outputId": "6cee2b05-251e-4045-87b1-1a33cdcd343f"
      },
      "outputs": [
        {
          "data": {
            "text/plain": [
              "array([7, 2, 1, ..., 4, 5, 6], dtype=uint8)"
            ]
          },
          "execution_count": 57,
          "metadata": {},
          "output_type": "execute_result"
        }
      ],
      "source": [
        "y_test"
      ]
    },
    {
      "cell_type": "markdown",
      "metadata": {
        "id": "44gNd1U5hVZy"
      },
      "source": [
        "Finalmente, podemos visualizar un ejemplo de imagen dentro del dataset:"
      ]
    },
    {
      "cell_type": "code",
      "execution_count": 58,
      "metadata": {
        "colab": {
          "base_uri": "https://localhost:8080/",
          "height": 447
        },
        "id": "3PIt4hiyhVZy",
        "outputId": "0815f8b4-bad3-4f35-e7f3-054e063f6406"
      },
      "outputs": [
        {
          "data": {
            "text/plain": [
              "(-0.5, 27.5, 27.5, -0.5)"
            ]
          },
          "execution_count": 58,
          "metadata": {},
          "output_type": "execute_result"
        },
        {
          "data": {
            "image/png": "[encoded data removed]",
            "text/plain": [
              "<Figure size 640x480 with 1 Axes>"
            ]
          },
          "metadata": {},
          "output_type": "display_data"
        }
      ],
      "source": [
        "nimagen = 18923\n",
        "plt.imshow(x_train[nimagen,:].reshape(28,28), cmap='gray_r')\n",
        "plt.title('Imagen ejemplo - Categoría: ' + str(np.argmax(y_train_cat[nimagen])))\n",
        "plt.axis('off')"
      ]
    },
    {
      "cell_type": "markdown",
      "metadata": {
        "id": "yxQqQ5nPhVZy"
      },
      "source": [
        "Por defecto, Keras requiere cada dato de entrada en el formato nimagenes x nfilas x ncolumnas x ncanales, donde ncanales = 1 por ser imágenes en escala de gris. Se debe modificar el tamaño de *x_train* y *x_test* para cumplir con este requerimiento:"
      ]
    },
    {
      "cell_type": "code",
      "execution_count": 59,
      "metadata": {
        "colab": {
          "base_uri": "https://localhost:8080/"
        },
        "collapsed": true,
        "id": "jnQfecdphVZz",
        "outputId": "5ca68d86-d1d8-4454-b7a2-410bb70b2483"
      },
      "outputs": [
        {
          "name": "stdout",
          "output_type": "stream",
          "text": [
            "(60000, 28, 28, 1)\n",
            "(10000, 28, 28, 1)\n"
          ]
        }
      ],
      "source": [
        "x_train = x_train.reshape(60000,28,28,1)\n",
        "x_test = x_test.reshape(10000,28,28,1)\n",
        "\n",
        "print(x_train.shape)\n",
        "print(x_test.shape)"
      ]
    },
    {
      "cell_type": "markdown",
      "metadata": {
        "id": "hEigVD_YhVZz"
      },
      "source": [
        "### 3.3 - Creación del modelo\n",
        "\n",
        "En la siguiente tabla se resumen las características de cada capa a implementar:\n",
        "    \n",
        "| **Capa**          | **Características**                            |\n",
        "|-------------------|------------------------------------------------|\n",
        "| CONV 1            | 6 filtros, 5x5, p=0, s=1, activación: ReLU     |\n",
        "| MAX-POOLING 1     | 6 filtros, 2x2, p=0, s=2, activación: Ninguna  |\n",
        "| CONV 2            | 16 filtros, 5x5, p=0, s=1, activación: ReLU    |\n",
        "| MAX-POOLING 2     | 16 filtros, 2x2, p=0, s=2, activación: Ninguna |\n",
        "| FLATTEN           | Simplemente convierte un volumen en un vector  |\n",
        "| FULLY CONNECTED 1 | 120 neuronas, activación: ReLU                 |\n",
        "| FULLY CONNECTED 2 | 84 neuronas, activación: ReLU                  |\n",
        "| SALIDA            | 10 categorías, activación: softmax             |\n",
        "\n"
      ]
    },
    {
      "cell_type": "markdown",
      "metadata": {
        "id": "6lElRoPRhVZ0"
      },
      "source": [
        "Creemos el contenedor del modelo usando *Sequential()*:"
      ]
    },
    {
      "cell_type": "code",
      "execution_count": 60,
      "metadata": {
        "collapsed": true,
        "id": "0Kh0ctFthVZ0"
      },
      "outputs": [],
      "source": [
        "modelo = Sequential()"
      ]
    },
    {
      "cell_type": "markdown",
      "metadata": {
        "id": "nwYicsGuhVZ0"
      },
      "source": [
        "Y añadimos, de forma secuencial, las diferentes capas de la red convolucional. En particular, usamos *Conv2D* para las capas convolucionales y *MaxPooling2D* para el *max-pooling*, junto con *Flatten* y *Dense* para la etapa de clasificación con redes neuronales y la capa de salida:"
      ]
    },
    {
      "cell_type": "code",
      "execution_count": 61,
      "metadata": {
        "collapsed": true,
        "id": "J06HNhDPhVZ0"
      },
      "outputs": [
        {
          "name": "stderr",
          "output_type": "stream",
          "text": [
            "c:\\Users\\NoxiePC\\AppData\\Local\\Programs\\Python\\Python312\\Lib\\site-packages\\keras\\src\\layers\\convolutional\\base_conv.py:107: UserWarning: Do not pass an `input_shape`/`input_dim` argument to a layer. When using Sequential models, prefer using an `Input(shape)` object as the first layer in the model instead.\n",
            "  super().__init__(activity_regularizer=activity_regularizer, **kwargs)\n"
          ]
        }
      ],
      "source": [
        "# CONV1 Y MAX-POOLING1\n",
        "modelo.add(Conv2D(filters=6, kernel_size=(5,5), activation='relu', input_shape=(28,28,1)))\n",
        "modelo.add(MaxPooling2D(pool_size=(2,2)))\n",
        "\n",
        "# CONV2 Y MAX-POOLING2\n",
        "modelo.add(Conv2D(filters=16, kernel_size=(5,5), activation='relu'))\n",
        "modelo.add(MaxPooling2D(pool_size=(2,2)))\n",
        "\n",
        "# Aplanar, FC1, FC2 y salida\n",
        "modelo.add(Flatten())\n",
        "modelo.add(Dense(120,activation='relu'))\n",
        "modelo.add(Dense(84,activation='relu'))\n",
        "modelo.add(Dense(nclases,activation='softmax'))"
      ]
    },
    {
      "cell_type": "markdown",
      "metadata": {
        "id": "2c83qRqQhVZ1"
      },
      "source": [
        "### 3.4 - Compilación del modelo\n",
        "\n",
        "En esta etapa definimos el optimizador a usar (gradiente descendente, tasa de aprendizaje = 0.1), así como la función de error (entropía cruzada) y la métrica de desempeño (precisión):"
      ]
    },
    {
      "cell_type": "code",
      "execution_count": 62,
      "metadata": {
        "collapsed": true,
        "id": "LcJ4O54ihVZ1"
      },
      "outputs": [],
      "source": [
        "sgd = SGD(learning_rate=0.1)\n",
        "modelo.compile(loss='categorical_crossentropy', optimizer=sgd, metrics=['accuracy'])"
      ]
    },
    {
      "cell_type": "markdown",
      "metadata": {
        "id": "3U-j2CUehVZ1"
      },
      "source": [
        "### 3.5 - Entrenamiento\n",
        "\n",
        "Realicemos el entrenamiento usando 10 iteraciones, una tasa de aprendizaje de 0.1 y un tamaño de lote (*batch_size*) de 128:"
      ]
    },
    {
      "cell_type": "code",
      "execution_count": 63,
      "metadata": {
        "colab": {
          "base_uri": "https://localhost:8080/"
        },
        "id": "LBaslP2qhVZ1",
        "outputId": "b6202c44-3c23-4193-db22-fc74e960fada"
      },
      "outputs": [
        {
          "name": "stdout",
          "output_type": "stream",
          "text": [
            "Epoch 1/10\n",
            "\u001b[1m469/469\u001b[0m \u001b[32m━━━━━━━━━━━━━━━━━━━━\u001b[0m\u001b[37m\u001b[0m \u001b[1m2s\u001b[0m 4ms/step - accuracy: 0.7073 - loss: 0.8928 - val_accuracy: 0.9709 - val_loss: 0.0881\n",
            "Epoch 2/10\n",
            "\u001b[1m469/469\u001b[0m \u001b[32m━━━━━━━━━━━━━━━━━━━━\u001b[0m\u001b[37m\u001b[0m \u001b[1m2s\u001b[0m 4ms/step - accuracy: 0.9704 - loss: 0.0926 - val_accuracy: 0.9794 - val_loss: 0.0629\n",
            "Epoch 3/10\n",
            "\u001b[1m469/469\u001b[0m \u001b[32m━━━━━━━━━━━━━━━━━━━━\u001b[0m\u001b[37m\u001b[0m \u001b[1m2s\u001b[0m 4ms/step - accuracy: 0.9790 - loss: 0.0661 - val_accuracy: 0.9837 - val_loss: 0.0499\n",
            "Epoch 4/10\n",
            "\u001b[1m469/469\u001b[0m \u001b[32m━━━━━━━━━━━━━━━━━━━━\u001b[0m\u001b[37m\u001b[0m \u001b[1m2s\u001b[0m 4ms/step - accuracy: 0.9836 - loss: 0.0531 - val_accuracy: 0.9857 - val_loss: 0.0451\n",
            "Epoch 5/10\n",
            "\u001b[1m469/469\u001b[0m \u001b[32m━━━━━━━━━━━━━━━━━━━━\u001b[0m\u001b[37m\u001b[0m \u001b[1m2s\u001b[0m 4ms/step - accuracy: 0.9860 - loss: 0.0436 - val_accuracy: 0.9852 - val_loss: 0.0433\n",
            "Epoch 6/10\n",
            "\u001b[1m469/469\u001b[0m \u001b[32m━━━━━━━━━━━━━━━━━━━━\u001b[0m\u001b[37m\u001b[0m \u001b[1m2s\u001b[0m 4ms/step - accuracy: 0.9885 - loss: 0.0377 - val_accuracy: 0.9839 - val_loss: 0.0484\n",
            "Epoch 7/10\n",
            "\u001b[1m469/469\u001b[0m \u001b[32m━━━━━━━━━━━━━━━━━━━━\u001b[0m\u001b[37m\u001b[0m \u001b[1m2s\u001b[0m 4ms/step - accuracy: 0.9896 - loss: 0.0336 - val_accuracy: 0.9860 - val_loss: 0.0438\n",
            "Epoch 8/10\n",
            "\u001b[1m469/469\u001b[0m \u001b[32m━━━━━━━━━━━━━━━━━━━━\u001b[0m\u001b[37m\u001b[0m \u001b[1m2s\u001b[0m 4ms/step - accuracy: 0.9914 - loss: 0.0288 - val_accuracy: 0.9836 - val_loss: 0.0459\n",
            "Epoch 9/10\n",
            "\u001b[1m469/469\u001b[0m \u001b[32m━━━━━━━━━━━━━━━━━━━━\u001b[0m\u001b[37m\u001b[0m \u001b[1m2s\u001b[0m 4ms/step - accuracy: 0.9922 - loss: 0.0247 - val_accuracy: 0.9879 - val_loss: 0.0389\n",
            "Epoch 10/10\n",
            "\u001b[1m469/469\u001b[0m \u001b[32m━━━━━━━━━━━━━━━━━━━━\u001b[0m\u001b[37m\u001b[0m \u001b[1m1s\u001b[0m 3ms/step - accuracy: 0.9931 - loss: 0.0235 - val_accuracy: 0.9891 - val_loss: 0.0351\n"
          ]
        },
        {
          "data": {
            "text/plain": [
              "<keras.src.callbacks.history.History at 0x1d382bda840>"
            ]
          },
          "execution_count": 63,
          "metadata": {},
          "output_type": "execute_result"
        }
      ],
      "source": [
        "nepochs = 10\n",
        "tam_lote = 128\n",
        "modelo.fit(x_train,y_train_cat,epochs=nepochs,batch_size=tam_lote, verbose=1, validation_data=(x_test,y_test_cat))"
      ]
    },
    {
      "cell_type": "markdown",
      "metadata": {
        "id": "Uafqz-nlhVZ2"
      },
      "source": [
        "Vemos que en la última iteración, el modelo alcanza una precisión de 99.3% para el set de entrenamiento y del 98.6% para el set de validación. Esta precisión nos indica que, en promedio, de cada 100 datos, aproximadamente 1 es clasificado incorrectamente. !Nada mal!"
      ]
    },
    {
      "cell_type": "markdown",
      "metadata": {
        "id": "R6qWDEPAhVZ2"
      },
      "source": [
        "## 4 - Desempeño del modelo\n",
        "\n",
        "La precisión obtenida anteriormente es una medida de desempeño global de la red convolucional, pero no nos permite verificar si algunos dígitos resultan mejor clasificados que otros. Para analizar en detalle este comportamiento, podemos usar la matriz de confusión:"
      ]
    },
    {
      "cell_type": "code",
      "execution_count": 64,
      "metadata": {
        "id": "om1a4fGCkzK5"
      },
      "outputs": [],
      "source": [
        "def graficar_matriz_de_confusion(y_test, y_ref, clases, cmap=plt.cm.Blues):\n",
        "\n",
        "    titulo = 'Matriz de confusión'\n",
        "\n",
        "    cm = confusion_matrix(y_test, y_ref)\n",
        "\n",
        "    # Generar figura\n",
        "    fig, ax = plt.subplots()\n",
        "    im = ax.imshow(cm, interpolation='nearest', cmap=cmap)\n",
        "    ax.set(xticks=np.arange(cm.shape[1]),\n",
        "           yticks=np.arange(cm.shape[0]),\n",
        "           xticklabels=clases, yticklabels=clases,\n",
        "           title=titulo,\n",
        "           ylabel='Categoría real',\n",
        "           xlabel='Predicción')\n",
        "\n",
        "    # Rotar y alinear ticks\n",
        "    plt.setp(ax.get_xticklabels(), rotation=45, ha=\"right\",\n",
        "             rotation_mode=\"anchor\")\n",
        "\n",
        "    # Rellenar gráfica con los valores de la matriz de confusión\n",
        "    fmt = 'd'\n",
        "    thresh = cm.max() / 2.\n",
        "    for i in range(cm.shape[0]):\n",
        "        for j in range(cm.shape[1]):\n",
        "            ax.text(j, i, format(cm[i, j], fmt),\n",
        "                    ha=\"center\", va=\"center\",\n",
        "                    color=\"white\" if cm[i, j] > thresh else \"black\")\n",
        "    fig.tight_layout()\n",
        "    plt.show()\n",
        "    return"
      ]
    },
    {
      "cell_type": "code",
      "execution_count": 65,
      "metadata": {
        "colab": {
          "base_uri": "https://localhost:8080/",
          "height": 558
        },
        "id": "bTcDwH8ohVZ2",
        "outputId": "74aa9181-29eb-4c36-b581-f02e24f2d11f"
      },
      "outputs": [
        {
          "name": "stdout",
          "output_type": "stream",
          "text": [
            "\u001b[1m313/313\u001b[0m \u001b[32m━━━━━━━━━━━━━━━━━━━━\u001b[0m\u001b[37m\u001b[0m \u001b[1m0s\u001b[0m 919us/step\n",
            "(10000,)\n",
            "(10000,)\n",
            "(10000, 10)\n",
            "[7 2 1 ... 4 5 6]\n"
          ]
        },
        {
          "data": {
            "text/plain": [
              "<sklearn.metrics._plot.confusion_matrix.ConfusionMatrixDisplay at 0x1d3850f7470>"
            ]
          },
          "execution_count": 65,
          "metadata": {},
          "output_type": "execute_result"
        },
        {
          "data": {
            "image/png": "[encoded data removed]",
            "text/plain": [
              "<Figure size 640x480 with 2 Axes>"
            ]
          },
          "metadata": {},
          "output_type": "display_data"
        }
      ],
      "source": [
        "y_pred = modelo.predict(x_test)\n",
        "y_ref = np.argmax(y_pred,axis=1)\n",
        "print(y_ref.shape)\n",
        "print(y_test.shape)\n",
        "print(y_pred.shape)\n",
        "print(y_ref)\n",
        "# print(y_test)\n",
        "etiquetas = ['0','1','2','3','4','5','6','7','8','9']\n",
        "cm = confusion_matrix(y_test, y_ref, normalize='all')\n",
        "ConfusionMatrixDisplay(cm).plot()\n"
      ]
    },
    {
      "cell_type": "code",
      "execution_count": 66,
      "metadata": {
        "colab": {
          "base_uri": "https://localhost:8080/"
        },
        "id": "oEA7BhOereKT",
        "outputId": "7adbe481-f0a4-44b7-d08a-9fc1b8b899a0"
      },
      "outputs": [
        {
          "data": {
            "text/plain": [
              "array([[8.4124183e-12, 2.4635128e-08, 1.8008096e-07, ..., 9.9999249e-01,\n",
              "        4.6384788e-10, 5.5008450e-06],\n",
              "       [3.6538563e-07, 1.2175683e-07, 9.9997020e-01, ..., 3.2214262e-10,\n",
              "        2.9350238e-05, 2.9858968e-10],\n",
              "       [5.0053364e-07, 9.9881738e-01, 3.9149306e-04, ..., 5.1578321e-04,\n",
              "        1.2666358e-04, 5.7235648e-06],\n",
              "       ...,\n",
              "       [6.2913081e-13, 2.9521924e-10, 7.7357037e-11, ..., 3.4000045e-08,\n",
              "        1.0297608e-08, 6.8844656e-07],\n",
              "       [5.1010844e-09, 4.2707247e-09, 1.5513538e-10, ..., 3.4675048e-11,\n",
              "        3.3652866e-01, 1.2089475e-09],\n",
              "       [2.1931502e-08, 5.8243821e-10, 7.7692464e-10, ..., 4.5198941e-13,\n",
              "        1.6443843e-07, 5.2777692e-11]], dtype=float32)"
            ]
          },
          "execution_count": 66,
          "metadata": {},
          "output_type": "execute_result"
        }
      ],
      "source": [
        "y_pred"
      ]
    },
    {
      "cell_type": "code",
      "execution_count": 67,
      "metadata": {
        "colab": {
          "base_uri": "https://localhost:8080/"
        },
        "id": "_qLd_AiCsTls",
        "outputId": "cc827667-076a-4022-b177-5ae592e4d2c3"
      },
      "outputs": [
        {
          "data": {
            "text/plain": [
              "array([8.4124183e-12, 2.4635128e-08, 1.8008096e-07, 1.7718468e-06,\n",
              "       6.3391568e-09, 1.8270462e-09, 2.8704586e-12, 9.9999249e-01,\n",
              "       4.6384788e-10, 5.5008450e-06], dtype=float32)"
            ]
          },
          "execution_count": 67,
          "metadata": {},
          "output_type": "execute_result"
        }
      ],
      "source": [
        "y_pred[0]"
      ]
    },
    {
      "cell_type": "code",
      "execution_count": 68,
      "metadata": {
        "colab": {
          "base_uri": "https://localhost:8080/"
        },
        "id": "mN5HbzDir7bk",
        "outputId": "4dbb3d62-adda-44b4-c441-84da193240ea"
      },
      "outputs": [
        {
          "data": {
            "text/plain": [
              "(10000, 10)"
            ]
          },
          "execution_count": 68,
          "metadata": {},
          "output_type": "execute_result"
        }
      ],
      "source": [
        "y_pred.shape"
      ]
    },
    {
      "cell_type": "code",
      "execution_count": 69,
      "metadata": {
        "colab": {
          "base_uri": "https://localhost:8080/",
          "height": 487
        },
        "collapsed": true,
        "id": "BBRpIKm7hVZ2",
        "outputId": "28d0d586-d623-43d7-cff5-0ea532e6969a"
      },
      "outputs": [
        {
          "data": {
            "image/png": "[encoded data removed]",
            "text/plain": [
              "<Figure size 640x480 with 1 Axes>"
            ]
          },
          "metadata": {},
          "output_type": "display_data"
        }
      ],
      "source": [
        "graficar_matriz_de_confusion(y_test, y_ref, etiquetas)"
      ]
    }
  ],
  "metadata": {
    "colab": {
      "provenance": []
    },
    "kernelspec": {
      "display_name": "Python 3",
      "language": "python",
      "name": "python3"
    },
    "language_info": {
      "codemirror_mode": {
        "name": "ipython",
        "version": 3
      },
      "file_extension": ".py",
      "mimetype": "text/x-python",
      "name": "python",
      "nbconvert_exporter": "python",
      "pygments_lexer": "ipython3",
      "version": "3.12.1"
    }
  },
  "nbformat": 4,
  "nbformat_minor": 0
}
